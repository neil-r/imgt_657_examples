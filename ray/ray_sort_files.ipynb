{
 "cells": [
  {
   "attachments": {},
   "cell_type": "markdown",
   "metadata": {},
   "source": [
    "# Sorting Example using Ray\n",
    "\n",
    "Ensure Ray is installed.\n",
    "\n",
    "This example demonstrates a two stage sorting technique.  The first stage tasks opens a file to sort the numbers and the second stage task takes the single-file sorted lists and merges them into one list."
   ]
  },
  {
   "cell_type": "code",
   "execution_count": 1,
   "metadata": {},
   "outputs": [],
   "source": [
    "import ray"
   ]
  },
  {
   "cell_type": "code",
   "execution_count": 9,
   "metadata": {},
   "outputs": [],
   "source": [
    "def sort_integers_in_file(file_path):\n",
    "    import time\n",
    "    time.sleep(2)\n",
    "    with open(file_path, \"r\") as f:\n",
    "        # first sort integers in file as they are read\n",
    "        sorted_integers = []\n",
    "        n = 0\n",
    "        for line in f:\n",
    "            integer = int(line)\n",
    "            index_to_insert = n\n",
    "            # TODO: since the integers are sorted, could use binary search to optimize the following code\n",
    "            for i, v in enumerate(sorted_integers):\n",
    "                if integer < v:\n",
    "                    index_to_insert = i\n",
    "                    break\n",
    "            n = n + 1\n",
    "            sorted_integers.insert(index_to_insert, integer)\n",
    "    return sorted_integers"
   ]
  },
  {
   "cell_type": "code",
   "execution_count": 5,
   "metadata": {},
   "outputs": [],
   "source": [
    "def second_stage_sort(sorted_lists):\n",
    "    sorted_lists = [ray.get(s) for s in sorted_lists]\n",
    "    print(f\"First stage sort results: {sorted_lists}\")\n",
    "    sorted_lists = list(sorted_lists)\n",
    "    final_sort = []\n",
    "\n",
    "    while True:\n",
    "        min_index = 0\n",
    "        min_value = sorted_lists[min_index][0]\n",
    "\n",
    "        for i, sorted_list in enumerate(sorted_lists[1:]):\n",
    "            if sorted_list[0] < min_value:\n",
    "                min_index = i + 1\n",
    "                min_value = sorted_list[0]\n",
    "        final_sort.append(min_value)\n",
    "        del sorted_lists[min_index][0]\n",
    "\n",
    "        if len(sorted_lists[min_index]) == 0:\n",
    "            del sorted_lists[min_index]\n",
    "            if len(sorted_lists) == 0:\n",
    "                break\n",
    "    return final_sort"
   ]
  },
  {
   "cell_type": "code",
   "execution_count": 10,
   "metadata": {},
   "outputs": [
    {
     "name": "stdout",
     "output_type": "stream",
     "text": [
      "[2, 5, 11, 44, 333]\n",
      "[1, 44, 222, 3333, 55555]\n",
      "[3, 4, 22, 11111, 5555555]\n",
      "[2222, 33333, 55555, 444444, 1111111]\n"
     ]
    },
    {
     "name": "stdout",
     "output_type": "stream",
     "text": [
      "\u001b[2m\u001b[36m(second_stage_sort pid=67385)\u001b[0m First stage sort results: [[2, 5, 11, 44, 333], [1, 44, 222, 3333, 55555], [3, 4, 22, 11111, 5555555], [2222, 33333, 55555, 444444, 1111111]]\n"
     ]
    }
   ],
   "source": [
    "data_files_to_sort = [\"data/numbers/1.txt\", \"data/numbers/2.txt\", \"data/numbers/3.txt\", \"data/numbers/4.txt\"]\n",
    "\n",
    "sort_tasks = []\n",
    "for file_to_sort in data_files_to_sort:\n",
    "    task = ray.remote(sort_integers_in_file).remote(file_to_sort)\n",
    "    # print(ray.get(task))\n",
    "    sort_tasks.append(task)\n",
    "\n",
    "final_sort_task = ray.remote(second_stage_sort).remote(sort_tasks)"
   ]
  },
  {
   "cell_type": "code",
   "execution_count": 7,
   "metadata": {},
   "outputs": [
    {
     "data": {
      "text/plain": [
       "[1,\n",
       " 2,\n",
       " 3,\n",
       " 4,\n",
       " 5,\n",
       " 11,\n",
       " 22,\n",
       " 44,\n",
       " 44,\n",
       " 222,\n",
       " 333,\n",
       " 2222,\n",
       " 3333,\n",
       " 11111,\n",
       " 33333,\n",
       " 55555,\n",
       " 55555,\n",
       " 444444,\n",
       " 1111111,\n",
       " 5555555]"
      ]
     },
     "execution_count": 7,
     "metadata": {},
     "output_type": "execute_result"
    }
   ],
   "source": [
    "ray.get(final_sort_task)"
   ]
  }
 ],
 "metadata": {
  "anaconda-cloud": {},
  "kernelspec": {
   "display_name": "Python 3 (ipykernel)",
   "language": "python",
   "name": "python3"
  },
  "language_info": {
   "codemirror_mode": {
    "name": "ipython",
    "version": 3
   },
   "file_extension": ".py",
   "mimetype": "text/x-python",
   "name": "python",
   "nbconvert_exporter": "python",
   "pygments_lexer": "ipython3",
   "version": "3.11.4"
  }
 },
 "nbformat": 4,
 "nbformat_minor": 4
}
